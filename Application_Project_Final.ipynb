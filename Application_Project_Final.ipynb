{
  "nbformat": 4,
  "nbformat_minor": 0,
  "metadata": {
    "colab": {
      "provenance": [],
      "collapsed_sections": [
        "8jMsFUM27pd-"
      ]
    },
    "kernelspec": {
      "name": "python3",
      "display_name": "Python 3"
    },
    "language_info": {
      "name": "python"
    }
  },
  "cells": [
    {
      "cell_type": "markdown",
      "source": [
        "# Pyomo Setup"
      ],
      "metadata": {
        "id": "8jMsFUM27pd-"
      }
    },
    {
      "cell_type": "code",
      "execution_count": 15,
      "metadata": {
        "id": "AOELO57E7mj6"
      },
      "outputs": [],
      "source": [
        "#@title\n",
        "#Copy-and-paste the code below to use as \"set-up\" when your optimization model uses Pyomo. \n",
        "#Uncomment the appropriate solver that you need.\n",
        "#for reference, see https://colab.research.google.com/drive/1yGk8RB5NXrcx9f1Tb-oCiWzbxh61hZLI?usp=sharing\n",
        "\n",
        "#installing and importing pyomo\n",
        "!pip install -q pyomo\n",
        "from pyomo.environ import *\n",
        "\n",
        "###installing and importing specific solvers (uncomment the one(s) you need)\n",
        "###glpk\n",
        "!apt-get install -y -qq glpk-utils\n",
        "###cbc\n",
        "#!apt-get install -y -qq coinor-cbc\n",
        "###ipopt\n",
        "#!wget -N -q \"https://ampl.com/dl/open/ipopt/ipopt-linux64.zip\"\n",
        "#!unzip -o -q ipopt-linux64\n",
        "###bonmin\n",
        "#!wget -N -q \"https://ampl.com/dl/open/bonmin/bonmin-linux64.zip\"\n",
        "#!unzip -o -q bonmin-linux64\n",
        "###couenne\n",
        "#!wget -N -q \"https://ampl.com/dl/open/couenne/couenne-linux64.zip\"\n",
        "#!unzip -o -q couenne-linux64\n",
        "###geocode\n",
        "#!wget -N -q \"https://ampl.com/dl/open/gecode/gecode-linux64.zip\"\n",
        "#!unzip -o -q gecode-linux64\n",
        "\n",
        "#Using the solvers:\n",
        "#SolverFactory('glpk', executable='/usr/bin/glpsol')\n",
        "#SolverFactory('cbc', executable='/usr/bin/cbc')\n",
        "#SolverFactory('ipopt', executable='/content/ipopt')\n",
        "#SolverFactory('bonmin', executable='/content/bonmin')\n",
        "#SolverFactory('couenne', executable='/content/couenne')\n",
        "#SolverFactory('gecode', executable='/content/gecode')"
      ]
    },
    {
      "cell_type": "markdown",
      "source": [
        "# Flight Assignment\n",
        "\n",
        "A small airlane company produces a weekly plan for the assignment of pilots and co-pilots to flights. "
      ],
      "metadata": {
        "id": "J2x3AtsmLOF6"
      }
    },
    {
      "cell_type": "markdown",
      "source": [
        "## Data\n",
        "\n",
        "* Set of pilots\n",
        "\n",
        "* Set of co-pliots\n",
        "\n",
        "* Set of flights\n",
        "\n",
        "* Incompatibilities of flight\n",
        "\n",
        "* Cost per hour of pilot\n",
        "\n",
        "* Cost per hour of co-pilot\n",
        "\n",
        "* Weekly amount of flight hours for each pilot and co-pilot \n",
        "\n",
        "* Flight hours of flight\n",
        "\n",
        "## Decision Variables\n",
        "\n",
        "* 1 if pilot is assigned to flight and 0 otherwise\n",
        "\n",
        "* 1 if co-pilot is assigned to flight and 0 otherwise\n",
        "\n",
        "## Objective Function\n",
        "\n",
        "Minimize flight costs\n",
        "\n",
        "## Constraints\n",
        "\n",
        "- One pilot and one co-pilot for each pilot\n",
        "- Do not exceed flight hours for each pilot and co-pilot\n",
        "- Avoid to assign the same crew to two incompatible flights\n"
      ],
      "metadata": {
        "id": "fldOLcsEukhn"
      }
    },
    {
      "cell_type": "code",
      "source": [
        "import pandas as pd\n",
        "\n",
        "crew = pd.read_csv('crew.csv')\n",
        "flights = pd.read_csv('flights.csv')\n",
        "costs = pd.read_csv('costs.csv', index_col=0)"
      ],
      "metadata": {
        "id": "8qB8WzEUNRwv"
      },
      "execution_count": 16,
      "outputs": []
    },
    {
      "cell_type": "markdown",
      "source": [
        "# Initializing parameter sets"
      ],
      "metadata": {
        "id": "FwWE0xnkzsJv"
      }
    },
    {
      "cell_type": "code",
      "source": [
        "# define the optimization model\n",
        "model = ConcreteModel()\n",
        "\n",
        "#Parameters\n",
        "model.Pilots = Set(initialize=crew['Pilots'].dropna().tolist())\n",
        "model.CoPilots = Set(initialize=crew['Co-pilots'].dropna().tolist())\n",
        "model.Flights = Set(initialize=flights['Flights'].tolist())"
      ],
      "metadata": {
        "id": "6LR5bMWER51c"
      },
      "execution_count": 17,
      "outputs": []
    },
    {
      "cell_type": "code",
      "source": [
        "model.Duration = Param(model.Flights, initialize={row['Flights']: row['Time'] for i, row in flights.iterrows()})\n",
        "model.Incompatabilities = Param(model.Flights, model.Flights, rule=lambda model, v1, v2: 1 if v1 in flights[v2].tolist() else 0)"
      ],
      "metadata": {
        "id": "LEgAnsbTR54F"
      },
      "execution_count": 18,
      "outputs": []
    },
    {
      "cell_type": "code",
      "source": [
        "def read_costs(model, p, v):\n",
        "    return costs.at[p, v]\n",
        "\n",
        "model.CostOfPilot = Param(model.Pilots, model.Flights, rule=read_costs)\n",
        "model.CostOfCoPilot = Param(model.CoPilots, model.Flights, rule=read_costs)\n",
        "model.WeeklyHours = Param(initialize=10)"
      ],
      "metadata": {
        "id": "C1kRBMd1R56s"
      },
      "execution_count": 19,
      "outputs": []
    },
    {
      "cell_type": "markdown",
      "source": [
        "# Initializing the DVs"
      ],
      "metadata": {
        "id": "AMkkE5cw9pSb"
      }
    },
    {
      "cell_type": "code",
      "source": [
        "model.x = Var(model.Pilots, model.Flights, domain=Binary)\n",
        "model.y = Var(model.CoPilots, model.Flights, domain=Binary)"
      ],
      "metadata": {
        "id": "18tJEtpZR59C"
      },
      "execution_count": 20,
      "outputs": []
    },
    {
      "cell_type": "markdown",
      "source": [
        "# Defining the objective function"
      ],
      "metadata": {
        "id": "tWHWmBdn9udy"
      }
    },
    {
      "cell_type": "code",
      "source": [
        "def obj_functioin(model):\n",
        "    return sum(model.Duration[v] * \\\n",
        "               (sum(model.CostOfPilot[p, v] * model.x[p, v] for p in  model.Pilots) + \\\n",
        "               sum(model.CostOfCoPilot[c, v] * model.y[c, v] for c in model.CoPilots)) for v in model.Flights)\n",
        "\n",
        "model.z = Objective(rule=obj_functioin, sense=minimize)"
      ],
      "metadata": {
        "id": "h0Kd5ztSR5_n"
      },
      "execution_count": 21,
      "outputs": []
    },
    {
      "cell_type": "markdown",
      "source": [
        "# Defining the constraints"
      ],
      "metadata": {
        "id": "WS3oRSEt90n7"
      }
    },
    {
      "cell_type": "code",
      "source": [
        "def pilot_assign_cons(model, v):\n",
        "    return sum(model.x[p, v] for p in model.Pilots) == 1\n",
        "\n",
        "def copilot_assign_cons(model, v):\n",
        "    return sum(model.y[c, v] for c in model.CoPilots) == 1\n",
        "\n",
        "model.pilot_assignment = Constraint(model.Flights, rule=pilot_assign_cons)\n",
        "model.copilot_assignment = Constraint(model.Flights, rule=copilot_assign_cons)"
      ],
      "metadata": {
        "id": "ScgilSFrR6CV"
      },
      "execution_count": 22,
      "outputs": []
    },
    {
      "cell_type": "code",
      "source": [
        "def pilot_incompatibility_cons(model, p, v1, v2):\n",
        "    return (model.x[p, v1] + model.x[p, v2] <= 2 - model.Incompatabilities[v1, v2])\n",
        "\n",
        "def copilot_incompatibility_cons(model, c, v1, v2):\n",
        "    return (model.y[c, v1] + model.y[c, v2] <= 2 - model.Incompatabilities[v1, v2])\n",
        "\n",
        "model.pilot_incompatibility = Constraint(model.Pilots, model.Flights, model.Flights, rule=pilot_incompatibility_cons)\n",
        "model.copilot_incompatibility = Constraint(model.CoPilots, model.Flights, model.Flights, rule=copilot_incompatibility_cons)"
      ],
      "metadata": {
        "id": "2lJiUf1YR6E9"
      },
      "execution_count": 23,
      "outputs": []
    },
    {
      "cell_type": "code",
      "source": [
        "def pilot_hours_cons(model, p):\n",
        "    return sum(model.Duration[v] * model.x[p, v] for v in model.Flights) <= model.WeeklyHours\n",
        "\n",
        "def copilot_hours_cons(model, c):\n",
        "    return sum(model.Duration[v] * model.y[c, v] for v in model.Flights) <= model.WeeklyHours\n",
        "\n",
        "model.pilot_hours = Constraint(model.Pilots, rule=pilot_hours_cons)\n",
        "model.copilot_hours = Constraint(model.CoPilots, rule=copilot_hours_cons)"
      ],
      "metadata": {
        "id": "UgyeZ7ZzR6Hr"
      },
      "execution_count": 24,
      "outputs": []
    },
    {
      "cell_type": "markdown",
      "source": [
        "# Solving the model using GLPK"
      ],
      "metadata": {
        "id": "TDXi-K3d97SY"
      }
    },
    {
      "cell_type": "code",
      "source": [
        "#solve the model\n",
        "opt = SolverFactory('glpk')\n",
        "opt.options['tmlim'] = 5 #specifies the time limit (in seconds)\n",
        "opt.options['mipgap'] = .00 #specifies the optimality gap tolerance (.01 means can stop if <1% of optimal obj)\n",
        "results = opt.solve(model, tee=True) #can set tee=True if you want to see the details."
      ],
      "metadata": {
        "colab": {
          "base_uri": "https://localhost:8080/"
        },
        "id": "ptgk_MBXR6Ka",
        "outputId": "fef1ce49-a90c-48cc-91c7-e5d267bf6bd2"
      },
      "execution_count": 25,
      "outputs": [
        {
          "output_type": "stream",
          "name": "stdout",
          "text": [
            "GLPSOL: GLPK LP/MIP Solver, v4.65\n",
            "Parameter(s) specified in the command line:\n",
            " --tmlim 5 --mipgap 0.0 --write /tmp/tmpj5d4kqd_.glpk.raw --wglp /tmp/tmpzlwcnwbl.glpk.glp\n",
            " --cpxlp /tmp/tmp9bpm1f59.pyomo.lp\n",
            "Reading problem data from '/tmp/tmp9bpm1f59.pyomo.lp'...\n",
            "/tmp/tmp9bpm1f59.pyomo.lp:58753: warning: lower bound of variable 'x1' redefined\n",
            "/tmp/tmp9bpm1f59.pyomo.lp:58753: warning: upper bound of variable 'x1' redefined\n",
            "11331 rows, 751 columns, 23251 non-zeros\n",
            "750 integer variables, all of which are binary\n",
            "59503 lines were read\n",
            "Writing problem data to '/tmp/tmpzlwcnwbl.glpk.glp'...\n",
            "47418 lines were written\n",
            "GLPK Integer Optimizer, v4.65\n",
            "11331 rows, 751 columns, 23251 non-zeros\n",
            "750 integer variables, all of which are binary\n",
            "Preprocessing...\n",
            "3580 rows, 750 columns, 8500 non-zeros\n",
            "750 integer variables, all of which are binary\n",
            "Scaling...\n",
            " A: min|aij| =  1.000e+00  max|aij| =  6.000e+00  ratio =  6.000e+00\n",
            "Problem data seem to be well scaled\n",
            "Constructing initial basis...\n",
            "Size of triangular part is 3580\n",
            "Solving LP relaxation...\n",
            "GLPK Simplex Optimizer, v4.65\n",
            "3580 rows, 750 columns, 8500 non-zeros\n",
            "      0: obj =   2.388500000e+03 inf =   1.490e+02 (102)\n",
            "     81: obj =   2.462000000e+03 inf =   2.887e-15 (0)\n",
            "*   230: obj =   1.630500000e+03 inf =   4.108e-15 (0) 1\n",
            "OPTIMAL LP SOLUTION FOUND\n",
            "Integer optimization begins...\n",
            "Long-step dual simplex will be used\n",
            "+   230: mip =     not found yet >=              -inf        (1; 0)\n",
            "+   230: >>>>>   1.630500000e+03 >=   1.630500000e+03   0.0% (1; 0)\n",
            "+   230: mip =   1.630500000e+03 >=     tree is empty   0.0% (0; 1)\n",
            "INTEGER OPTIMAL SOLUTION FOUND\n",
            "Time used:   0.1 secs\n",
            "Memory used: 6.4 Mb (6702208 bytes)\n",
            "Writing MIP solution to '/tmp/tmpj5d4kqd_.glpk.raw'...\n",
            "12091 lines were written\n"
          ]
        }
      ]
    },
    {
      "cell_type": "code",
      "source": [
        "print(\"Weekly plan cost {}\".format(value(model.z())))"
      ],
      "metadata": {
        "colab": {
          "base_uri": "https://localhost:8080/"
        },
        "id": "Q25f9PDeR6NN",
        "outputId": "ac4bb0b7-1b8b-4d0b-bb61-6105e02c207f"
      },
      "execution_count": 26,
      "outputs": [
        {
          "output_type": "stream",
          "name": "stdout",
          "text": [
            "Weekly plan cost 1630.5\n"
          ]
        }
      ]
    },
    {
      "cell_type": "code",
      "source": [
        "instance = model.create_instance()\n",
        "pd.DataFrame.from_records(\n",
        "    [(v, p, c) for p in instance.Pilots for c in instance.CoPilots for v in instance.Flights\n",
        "        if instance.x[p,v].value > 0 and instance.y[c,v].value > 0 ], \n",
        "        columns=['Flights', 'Pilot', 'Co-pilot'], index='Flights'\n",
        ")"
      ],
      "metadata": {
        "colab": {
          "base_uri": "https://localhost:8080/",
          "height": 545
        },
        "id": "lULPzpcWygws",
        "outputId": "01690188-37cd-4620-ce23-3784520a7568"
      },
      "execution_count": 27,
      "outputs": [
        {
          "output_type": "execute_result",
          "data": {
            "text/plain": [
              "                         Pilot                  Co-pilot\n",
              "Flights                                                 \n",
              "ZT7456       Caroline Herschel           Stephen Hawking\n",
              "ZT7947       Geraldine Seydoux                Niels Bohr\n",
              "ZT1557    Jacqueline K. Barton      Rita Levi-Montalcini\n",
              "ZT9968    Jocelyn Bell Burnell          Melissa Franklin\n",
              "ZT7579    Jocelyn Bell Burnell   Wilhelm Conrad Roentgen\n",
              "ZT5845         Johannes Kepler    Mildred S. Dresselhaus\n",
              "ZT3554    Lene Vestergaard Hau         Rosalind Franklin\n",
              "ZT2898             Lord Kelvin           Chien-Shiung Wu\n",
              "ZT3821             Lord Kelvin           Chien-Shiung Wu\n",
              "ZT1277          Maria Mitchell        Erwin Schroedinger\n",
              "ZT5269             Marie Curie  Cecilia Payne-Gaposchkin\n",
              "ZT4311                Max Born             Edmond Halley\n",
              "ZT3234                Max Born           Patty Jo Watson\n",
              "ZT6742   Sir Ernest Rutherford       Shirley Ann Jackson\n",
              "ZT6743        Sir Isaac Newton        Flossie Wong-Staal"
            ],
            "text/html": [
              "\n",
              "  <div id=\"df-54b4220c-e9a0-4b7d-8cca-f0277ccf965d\">\n",
              "    <div class=\"colab-df-container\">\n",
              "      <div>\n",
              "<style scoped>\n",
              "    .dataframe tbody tr th:only-of-type {\n",
              "        vertical-align: middle;\n",
              "    }\n",
              "\n",
              "    .dataframe tbody tr th {\n",
              "        vertical-align: top;\n",
              "    }\n",
              "\n",
              "    .dataframe thead th {\n",
              "        text-align: right;\n",
              "    }\n",
              "</style>\n",
              "<table border=\"1\" class=\"dataframe\">\n",
              "  <thead>\n",
              "    <tr style=\"text-align: right;\">\n",
              "      <th></th>\n",
              "      <th>Pilot</th>\n",
              "      <th>Co-pilot</th>\n",
              "    </tr>\n",
              "    <tr>\n",
              "      <th>Flights</th>\n",
              "      <th></th>\n",
              "      <th></th>\n",
              "    </tr>\n",
              "  </thead>\n",
              "  <tbody>\n",
              "    <tr>\n",
              "      <th>ZT7456</th>\n",
              "      <td>Caroline Herschel</td>\n",
              "      <td>Stephen Hawking</td>\n",
              "    </tr>\n",
              "    <tr>\n",
              "      <th>ZT7947</th>\n",
              "      <td>Geraldine Seydoux</td>\n",
              "      <td>Niels Bohr</td>\n",
              "    </tr>\n",
              "    <tr>\n",
              "      <th>ZT1557</th>\n",
              "      <td>Jacqueline K. Barton</td>\n",
              "      <td>Rita Levi-Montalcini</td>\n",
              "    </tr>\n",
              "    <tr>\n",
              "      <th>ZT9968</th>\n",
              "      <td>Jocelyn Bell Burnell</td>\n",
              "      <td>Melissa Franklin</td>\n",
              "    </tr>\n",
              "    <tr>\n",
              "      <th>ZT7579</th>\n",
              "      <td>Jocelyn Bell Burnell</td>\n",
              "      <td>Wilhelm Conrad Roentgen</td>\n",
              "    </tr>\n",
              "    <tr>\n",
              "      <th>ZT5845</th>\n",
              "      <td>Johannes Kepler</td>\n",
              "      <td>Mildred S. Dresselhaus</td>\n",
              "    </tr>\n",
              "    <tr>\n",
              "      <th>ZT3554</th>\n",
              "      <td>Lene Vestergaard Hau</td>\n",
              "      <td>Rosalind Franklin</td>\n",
              "    </tr>\n",
              "    <tr>\n",
              "      <th>ZT2898</th>\n",
              "      <td>Lord Kelvin</td>\n",
              "      <td>Chien-Shiung Wu</td>\n",
              "    </tr>\n",
              "    <tr>\n",
              "      <th>ZT3821</th>\n",
              "      <td>Lord Kelvin</td>\n",
              "      <td>Chien-Shiung Wu</td>\n",
              "    </tr>\n",
              "    <tr>\n",
              "      <th>ZT1277</th>\n",
              "      <td>Maria Mitchell</td>\n",
              "      <td>Erwin Schroedinger</td>\n",
              "    </tr>\n",
              "    <tr>\n",
              "      <th>ZT5269</th>\n",
              "      <td>Marie Curie</td>\n",
              "      <td>Cecilia Payne-Gaposchkin</td>\n",
              "    </tr>\n",
              "    <tr>\n",
              "      <th>ZT4311</th>\n",
              "      <td>Max Born</td>\n",
              "      <td>Edmond Halley</td>\n",
              "    </tr>\n",
              "    <tr>\n",
              "      <th>ZT3234</th>\n",
              "      <td>Max Born</td>\n",
              "      <td>Patty Jo Watson</td>\n",
              "    </tr>\n",
              "    <tr>\n",
              "      <th>ZT6742</th>\n",
              "      <td>Sir Ernest Rutherford</td>\n",
              "      <td>Shirley Ann Jackson</td>\n",
              "    </tr>\n",
              "    <tr>\n",
              "      <th>ZT6743</th>\n",
              "      <td>Sir Isaac Newton</td>\n",
              "      <td>Flossie Wong-Staal</td>\n",
              "    </tr>\n",
              "  </tbody>\n",
              "</table>\n",
              "</div>\n",
              "      <button class=\"colab-df-convert\" onclick=\"convertToInteractive('df-54b4220c-e9a0-4b7d-8cca-f0277ccf965d')\"\n",
              "              title=\"Convert this dataframe to an interactive table.\"\n",
              "              style=\"display:none;\">\n",
              "        \n",
              "  <svg xmlns=\"http://www.w3.org/2000/svg\" height=\"24px\"viewBox=\"0 0 24 24\"\n",
              "       width=\"24px\">\n",
              "    <path d=\"M0 0h24v24H0V0z\" fill=\"none\"/>\n",
              "    <path d=\"M18.56 5.44l.94 2.06.94-2.06 2.06-.94-2.06-.94-.94-2.06-.94 2.06-2.06.94zm-11 1L8.5 8.5l.94-2.06 2.06-.94-2.06-.94L8.5 2.5l-.94 2.06-2.06.94zm10 10l.94 2.06.94-2.06 2.06-.94-2.06-.94-.94-2.06-.94 2.06-2.06.94z\"/><path d=\"M17.41 7.96l-1.37-1.37c-.4-.4-.92-.59-1.43-.59-.52 0-1.04.2-1.43.59L10.3 9.45l-7.72 7.72c-.78.78-.78 2.05 0 2.83L4 21.41c.39.39.9.59 1.41.59.51 0 1.02-.2 1.41-.59l7.78-7.78 2.81-2.81c.8-.78.8-2.07 0-2.86zM5.41 20L4 18.59l7.72-7.72 1.47 1.35L5.41 20z\"/>\n",
              "  </svg>\n",
              "      </button>\n",
              "      \n",
              "  <style>\n",
              "    .colab-df-container {\n",
              "      display:flex;\n",
              "      flex-wrap:wrap;\n",
              "      gap: 12px;\n",
              "    }\n",
              "\n",
              "    .colab-df-convert {\n",
              "      background-color: #E8F0FE;\n",
              "      border: none;\n",
              "      border-radius: 50%;\n",
              "      cursor: pointer;\n",
              "      display: none;\n",
              "      fill: #1967D2;\n",
              "      height: 32px;\n",
              "      padding: 0 0 0 0;\n",
              "      width: 32px;\n",
              "    }\n",
              "\n",
              "    .colab-df-convert:hover {\n",
              "      background-color: #E2EBFA;\n",
              "      box-shadow: 0px 1px 2px rgba(60, 64, 67, 0.3), 0px 1px 3px 1px rgba(60, 64, 67, 0.15);\n",
              "      fill: #174EA6;\n",
              "    }\n",
              "\n",
              "    [theme=dark] .colab-df-convert {\n",
              "      background-color: #3B4455;\n",
              "      fill: #D2E3FC;\n",
              "    }\n",
              "\n",
              "    [theme=dark] .colab-df-convert:hover {\n",
              "      background-color: #434B5C;\n",
              "      box-shadow: 0px 1px 3px 1px rgba(0, 0, 0, 0.15);\n",
              "      filter: drop-shadow(0px 1px 2px rgba(0, 0, 0, 0.3));\n",
              "      fill: #FFFFFF;\n",
              "    }\n",
              "  </style>\n",
              "\n",
              "      <script>\n",
              "        const buttonEl =\n",
              "          document.querySelector('#df-54b4220c-e9a0-4b7d-8cca-f0277ccf965d button.colab-df-convert');\n",
              "        buttonEl.style.display =\n",
              "          google.colab.kernel.accessAllowed ? 'block' : 'none';\n",
              "\n",
              "        async function convertToInteractive(key) {\n",
              "          const element = document.querySelector('#df-54b4220c-e9a0-4b7d-8cca-f0277ccf965d');\n",
              "          const dataTable =\n",
              "            await google.colab.kernel.invokeFunction('convertToInteractive',\n",
              "                                                     [key], {});\n",
              "          if (!dataTable) return;\n",
              "\n",
              "          const docLinkHtml = 'Like what you see? Visit the ' +\n",
              "            '<a target=\"_blank\" href=https://colab.research.google.com/notebooks/data_table.ipynb>data table notebook</a>'\n",
              "            + ' to learn more about interactive tables.';\n",
              "          element.innerHTML = '';\n",
              "          dataTable['output_type'] = 'display_data';\n",
              "          await google.colab.output.renderOutput(dataTable, element);\n",
              "          const docLink = document.createElement('div');\n",
              "          docLink.innerHTML = docLinkHtml;\n",
              "          element.appendChild(docLink);\n",
              "        }\n",
              "      </script>\n",
              "    </div>\n",
              "  </div>\n",
              "  "
            ]
          },
          "metadata": {},
          "execution_count": 27
        }
      ]
    }
  ]
}